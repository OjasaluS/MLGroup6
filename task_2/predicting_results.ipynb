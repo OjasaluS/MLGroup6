{
 "cells": [
  {
   "cell_type": "code",
   "execution_count": 1,
   "id": "c8fe1502",
   "metadata": {},
   "outputs": [],
   "source": [
    "from sklearn.svm import SVR\n",
    "from sklearn.svm import SVC\n",
    "\n",
    "from sklearn.linear_model import LogisticRegression\n",
    "from sklearn.tree import DecisionTreeClassifier\n",
    "from sklearn.neighbors import KNeighborsClassifier\n",
    "\n",
    "from sklearn.metrics import mean_squared_error\n",
    "from sklearn.metrics import mean_absolute_error\n",
    "\n",
    "import pandas as pd\n",
    "import numpy as np\n",
    "import matplotlib.pyplot as plt\n",
    "from sklearn.model_selection import train_test_split"
   ]
  },
  {
   "cell_type": "code",
   "execution_count": 2,
   "id": "a0d3010e",
   "metadata": {},
   "outputs": [],
   "source": [
    "mse_values = []\n",
    "mae_values = []\n",
    "weeks = ['15', '14', '13', '12', '10']"
   ]
  },
  {
   "cell_type": "code",
   "execution_count": 3,
   "id": "d54122fa",
   "metadata": {},
   "outputs": [],
   "source": [
    "import warnings\n",
    "warnings.filterwarnings('ignore')"
   ]
  },
  {
   "cell_type": "code",
   "execution_count": 4,
   "id": "40afc7d8",
   "metadata": {},
   "outputs": [],
   "source": [
    "file = 'data/02-05 Hinded.xlsx'"
   ]
  },
  {
   "cell_type": "code",
   "execution_count": 5,
   "id": "47f63355",
   "metadata": {},
   "outputs": [],
   "source": [
    "def grades(row):\n",
    "    if row['Kogutulemus (Punktid)'] > 90:\n",
    "        return 5.0\n",
    "    if row['Kogutulemus (Punktid)'] > 80:\n",
    "        return 4.0\n",
    "    if row['Kogutulemus (Punktid)'] > 70:\n",
    "        return 3.0\n",
    "    if row['Kogutulemus (Punktid)'] > 60:\n",
    "        return 2.0\n",
    "    if row['Kogutulemus (Punktid)'] > 50:\n",
    "        return 1.0\n",
    "    return 0.0\n",
    "\n",
    "def pass_course(row):\n",
    "    if row['Kogutulemus (Punktid)'] > 50:\n",
    "        return 1.0\n",
    "    return 0.0\n",
    "\n",
    "\n",
    "def preprocess(filename, columns):\n",
    "    \n",
    "    # Changed VPL harjutus:Praktikumitöö esitamine (Punktid) columns to\n",
    "    # VPL harjutus1:Praktikumitöö esitamine (Punktid)\n",
    "    # VPL harjutus2:Praktikumitöö esitamine (Punktid)\n",
    "    # VPL harjutus3:Praktikumitöö esitamine (Punktid)\n",
    "    # ...\n",
    "    # VPL harjutus15:Praktikumitöö esitamine (Punktid)\n",
    "    \n",
    "    df = pd.read_excel(filename)\n",
    "    \n",
    "    df['Grade'] = df.apply(lambda row: grades(row), axis=1)\n",
    "    \n",
    "    df['Pass'] = df.apply(lambda row: pass_course(row), axis=1)\n",
    "    \n",
    "    df = df.drop(['Eesnimi', \n",
    "                  'Perenimi', \n",
    "                  'ID-number', \n",
    "                  'Meiliaadress', \n",
    "                  'Sellest kursusest viimati alla laaditud', \n",
    "                  'Ülesanne:Näidiseksami logide ja video esitamine (Punktid)', \n",
    "                  'Kogutulemus (Punktid)',\n",
    "                  'Hinne (Punktid)',\n",
    "                  'Kodutööd kokku (Punktid)',\n",
    "                  'Kontrolltööd kokku (Punktid)',\n",
    "                  'Eksamile pääs (Punktid)',\n",
    "                  'Eksam kokku (Punktid)',\n",
    "                  'Test:8.01 eksami arvestuslik osa (Punktid)',\n",
    "                  'Test:8.01 eksami punktilise osa 1. ülesanne (Punktid)',\n",
    "                  'VPL harjutus:8.01 eksami punktilise osa 2. ja 3. ülesande esitamine (Punktid)',\n",
    "                  'Ülesanne:8.01 eksami logide ja video esitamine (Punktid)',\n",
    "                  'Test:14.01 eksami arvestuslik osa (Punktid)',\n",
    "                  'Test:14.01 eksami punktilise osa 1. ülesanne (Punktid)',\n",
    "                  'VPL harjutus:14.01 eksami punktilise osa 2. ja 3. ülesande esitamine (Punktid)',\n",
    "                  'Ülesanne:14.01 eksami logide ja video esitamine (Punktid)',\n",
    "                  'Test:27.01 eksami arvestuslik osa (Punktid)',\n",
    "                  'Test:27.01 eksami punktilise osa 1. ülesanne (Punktid)',\n",
    "                  'VPL harjutus:27.01 eksami punktilise osa 2. ja 3. ülesande esitamine (Punktid)',\n",
    "                  'Ülesanne:27.01 eksami logide ja video esitamine (Punktid)',\n",
    "                 ], axis=1)\n",
    "    \n",
    "    df = df.replace('-', 0.0)\n",
    "    df = df.replace('arvestatud', 1.0)\n",
    "    df = df.replace('mittearvestatud', 0.0)\n",
    "    df = df.replace('jah', 1.0)\n",
    "    df = df.replace('ei', 0.0)\n",
    "    \n",
    "    df = df.fillna(0.0)\n",
    "    \n",
    "    df_half = df[columns]\n",
    "    \n",
    "    return df, df_half"
   ]
  },
  {
   "cell_type": "code",
   "execution_count": 6,
   "id": "1370509f",
   "metadata": {
    "scrolled": true
   },
   "outputs": [],
   "source": [
    "columns = [\n",
    "        'Test:1. nädala test (Punktid)',\n",
    "        'Test:2. nädala test (Punktid)',\n",
    "        'Test:3. nädala test (Punktid)',\n",
    "        'Test:4. nädala test (Punktid)',\n",
    "        'Test:5. nädala test (Punktid)',\n",
    "        'Test:6. nädala test (Punktid)',\n",
    "        'Test:7. nädala test (Punktid)',\n",
    "        'Test:8. nädala test (Punktid)',\n",
    "        'Test:9. nädala test (Punktid)',\n",
    "        'Test:10. nädala test (Punktid)',\n",
    "        'VPL harjutus:1. nädala kodutöö (Punktid)',\n",
    "        'VPL harjutus:2. nädala kodutöö (Punktid)',\n",
    "        'VPL harjutus:3. nädala kodutöö (Punktid)',\n",
    "        'VPL harjutus:4. nädala kodutöö (Punktid)',\n",
    "        'VPL harjutus:5. nädala kodutöö (Punktid)',\n",
    "        'VPL harjutus:7. nädala kodutöö (Punktid)',\n",
    "        'VPL harjutus:8. nädala kodutöö (Punktid)',\n",
    "        'VPL harjutus:9. nädala kodutöö (Punktid)',\n",
    "        'VPL harjutus:10. nädala kodutöö (Punktid)',\n",
    "        'VPL harjutus1:Praktikumitöö esitamine (Punktid)',\n",
    "        'VPL harjutus2:Praktikumitöö esitamine (Punktid)',\n",
    "        'VPL harjutus3:Praktikumitöö esitamine (Punktid)',\n",
    "        'VPL harjutus4:Praktikumitöö esitamine (Punktid)',\n",
    "        'VPL harjutus5:Praktikumitöö esitamine (Punktid)',\n",
    "        'VPL harjutus7:Praktikumitöö esitamine (Punktid)',\n",
    "        'VPL harjutus8:Praktikumitöö esitamine (Punktid)',\n",
    "        'VPL harjutus9:Praktikumitöö esitamine (Punktid)',\n",
    "        'VPL harjutus10:Praktikumitöö esitamine (Punktid)',\n",
    "        'Ülesanne:Esita projekti kirjeldus (Punktid)',\n",
    "        'Ülesanne:Projekti algversioon (Punktid)',\n",
    "        'VPL harjutus:1. kontrolltöö programmide esitamine (Punktid)',\n",
    "        'Test:1. kontrolltöö arvestuslik osa (Punktid)',\n",
    "        'VPL harjutus:1. kontrolltöö programmide esitamine (Punktid)',\n",
    "        'Test:1. KT järeltöö arvestuslik osa (Punktid)',\n",
    "        'VPL harjutus:1. KT järeltöö programmide esitamine (Punktid)',\n",
    "        'Test:1. KT 5.01 lisajäreltöö arvestuslik osa (Punktid)',\n",
    "        'VPL harjutus:1. KT 5.01 lisajäreltöö programmide esitamine (Punktid)',\n",
    "        'Ülesanne:1. KT 5.01 lisajäreltöö logide ja video esitamine (Punktid)',\n",
    "        'Test:1. KT 25.01 lisajäreltöö arvestuslik osa (Punktid)',\n",
    "        'VPL harjutus:1. KT 25.01 lisajäreltöö programmide esitamine (Punktid)',\n",
    "        'Ülesanne:1. KT 25.01 lisajäreltöö logide ja video esitamine (Punktid)',\n",
    "        'Grade',\n",
    "        'Pass'\n",
    "    ]\n",
    "df, df_half = preprocess(file, columns)"
   ]
  },
  {
   "cell_type": "code",
   "execution_count": 7,
   "id": "823456e8",
   "metadata": {},
   "outputs": [],
   "source": [
    "train, test = train_test_split(df, test_size=0.2, random_state=42)"
   ]
  },
  {
   "cell_type": "code",
   "execution_count": 8,
   "id": "da4d43ad",
   "metadata": {},
   "outputs": [],
   "source": [
    "# Full database training\n",
    "X_train = train.drop(['Grade', 'Pass'], axis=1)\n",
    "y_train_grade = train[['Grade']]\n",
    "y_train_pass = train[['Pass']]\n",
    "\n",
    "X_test = test.drop(['Grade', 'Pass'], axis=1)\n",
    "y_test_grade = test[['Grade']]\n",
    "y_test_pass = test[['Pass']]"
   ]
  },
  {
   "cell_type": "code",
   "execution_count": 9,
   "id": "e960eaab",
   "metadata": {},
   "outputs": [
    {
     "data": {
      "text/plain": [
       "SVR(C=2.0)"
      ]
     },
     "execution_count": 9,
     "metadata": {},
     "output_type": "execute_result"
    }
   ],
   "source": [
    "# Create a model\n",
    "# SVR\n",
    "model_grade =  SVR(C = 2.0, epsilon = 0.1)\n",
    "model_pass =  SVR(C = 2.0, epsilon = 0.1)\n",
    "\n",
    "model_grade.fit(X_train, y_train_grade)\n",
    "model_pass.fit(X_train, y_train_pass)"
   ]
  },
  {
   "cell_type": "code",
   "execution_count": 10,
   "id": "b3c9dbcb",
   "metadata": {
    "scrolled": true
   },
   "outputs": [
    {
     "name": "stdout",
     "output_type": "stream",
     "text": [
      "MSE: 0.43807892789778896\n",
      "MAE: 0.4634826485193596\n",
      "Accuracy: 0.8429210893416649\n"
     ]
    }
   ],
   "source": [
    "y_pred = model_grade.predict(X_test)\n",
    "\n",
    "mse = mean_squared_error(y_test_grade, y_pred)\n",
    "    \n",
    "mae = mean_absolute_error(y_test_grade, y_pred)\n",
    "    \n",
    "acc = model_grade.score(X_test, y_test_grade)\n",
    "    \n",
    "print(f'MSE: {mse}')\n",
    "print(f'MAE: {mae}')\n",
    "print(f'Accuracy: {acc}')"
   ]
  },
  {
   "cell_type": "code",
   "execution_count": 11,
   "id": "0cf941b0",
   "metadata": {},
   "outputs": [
    {
     "data": {
      "text/plain": [
       "0.773903288408432"
      ]
     },
     "execution_count": 11,
     "metadata": {},
     "output_type": "execute_result"
    }
   ],
   "source": [
    "model_pass.score(X_test, y_test_pass)"
   ]
  },
  {
   "cell_type": "code",
   "execution_count": 12,
   "id": "74aae518",
   "metadata": {
    "scrolled": true
   },
   "outputs": [],
   "source": [
    "# Implementing blending\n",
    "# New validation data\n",
    "train2, val = train_test_split(train, test_size=0.2, random_state=42)\n",
    "\n",
    "X_train_2 = train2.drop(['Grade', 'Pass'], axis=1)\n",
    "y_train_grade_2 = train2[['Grade']]\n",
    "\n",
    "X_val = val.drop(['Grade', 'Pass'], axis=1)\n",
    "y_val_grade = val[['Grade']]\n",
    "\n",
    "# Create the models and train them\n",
    "model1 = LogisticRegression()\n",
    "model2 = DecisionTreeClassifier()\n",
    "model3 = KNeighborsClassifier()\n",
    "\n",
    "np.random.seed(1111) \n",
    "model1.fit(X_train_2, y_train_grade_2)\n",
    "\n",
    "np.random.seed(1111) \n",
    "model2.fit(X_train_2, y_train_grade_2)\n",
    "\n",
    "np.random.seed(1111) \n",
    "model3.fit(X_train_2, y_train_grade_2)\n",
    "\n",
    "# Training set\n",
    "model1_pred = model1.predict_proba(X_val)\n",
    "model2_pred = model2.predict_proba(X_val)\n",
    "model3_pred = model3.predict_proba(X_val)\n",
    "\n",
    "train_blending = np.concatenate([model1_pred, model2_pred, model3_pred], axis = 1)\n",
    "\n",
    "# Test set\n",
    "model1_pred = model1.predict_proba(X_test)\n",
    "model2_pred = model2.predict_proba(X_test)\n",
    "model3_pred = model3.predict_proba(X_test)\n",
    "\n",
    "test_blending = np.concatenate([model1_pred, model2_pred, model3_pred], axis = 1)"
   ]
  },
  {
   "cell_type": "code",
   "execution_count": 13,
   "id": "80edae9a",
   "metadata": {},
   "outputs": [
    {
     "data": {
      "text/plain": [
       "SVC()"
      ]
     },
     "execution_count": 13,
     "metadata": {},
     "output_type": "execute_result"
    }
   ],
   "source": [
    "np.random.seed(1111) \n",
    "\n",
    "blending_model = SVC()\n",
    "blending_model.fit(train_blending, y_val_grade)"
   ]
  },
  {
   "cell_type": "code",
   "execution_count": 14,
   "id": "b1757d8e",
   "metadata": {},
   "outputs": [
    {
     "name": "stdout",
     "output_type": "stream",
     "text": [
      "Accuracy of stacking ensemble 43.47826086956522%\n"
     ]
    }
   ],
   "source": [
    "print(f'Accuracy of stacking ensemble {blending_model.score(test_blending, y_test_grade)*100}%')"
   ]
  },
  {
   "cell_type": "markdown",
   "id": "c5bbf975",
   "metadata": {},
   "source": [
    "# Predicting grades by adding weekly values"
   ]
  },
  {
   "cell_type": "markdown",
   "id": "0d75e60c",
   "metadata": {},
   "source": [
    "## 10 week data"
   ]
  },
  {
   "cell_type": "code",
   "execution_count": 15,
   "id": "063b590b",
   "metadata": {},
   "outputs": [],
   "source": [
    "train_half, test_half = train_test_split(df_half, test_size=0.2, random_state=42)\n",
    "\n",
    "X_train_half = train_half.drop(['Grade', 'Pass'], axis=1)\n",
    "y_train_grade_half = train_half[['Grade']]\n",
    "\n",
    "X_test_half = test_half.drop(['Grade', 'Pass'], axis=1)\n",
    "y_test_grade_half = test_half[['Grade']]"
   ]
  },
  {
   "cell_type": "code",
   "execution_count": 16,
   "id": "9a88f3ef",
   "metadata": {},
   "outputs": [],
   "source": [
    "# Implementing blending like in HW5\n",
    "# New validation data\n",
    "# On 10 week data\n",
    "\n",
    "train2_half, val_half = train_test_split(train_half, test_size=0.2, random_state=42)\n",
    "\n",
    "X_train_2_half = train2_half.drop(['Grade', 'Pass'], axis=1)\n",
    "y_train_grade_2_half = train2_half[['Grade']]\n",
    "\n",
    "X_val_half = val_half.drop(['Grade', 'Pass'], axis=1)\n",
    "y_val_grade_half = val_half[['Grade']]\n",
    "\n",
    "# Create the models and train them\n",
    "model1 = LogisticRegression()\n",
    "model2 = DecisionTreeClassifier()\n",
    "model3 = KNeighborsClassifier()\n",
    "\n",
    "np.random.seed(1111) \n",
    "model1.fit(X_train_2_half, y_train_grade_2_half)\n",
    "\n",
    "np.random.seed(1111) \n",
    "model2.fit(X_train_2_half, y_train_grade_2_half)\n",
    "\n",
    "np.random.seed(1111) \n",
    "model3.fit(X_train_2_half, y_train_grade_2_half)\n",
    "\n",
    "# Training set\n",
    "model1_pred = model1.predict_proba(X_val_half)\n",
    "model2_pred = model2.predict_proba(X_val_half)\n",
    "model3_pred = model3.predict_proba(X_val_half)\n",
    "\n",
    "train_blending_half = np.concatenate([model1_pred, model2_pred, model3_pred], axis = 1)\n",
    "\n",
    "# Test set\n",
    "model1_pred = model1.predict_proba(X_test_half)\n",
    "model2_pred = model2.predict_proba(X_test_half)\n",
    "model3_pred = model3.predict_proba(X_test_half)\n",
    "\n",
    "test_blending_half = np.concatenate([model1_pred, model2_pred, model3_pred], axis = 1)"
   ]
  },
  {
   "cell_type": "code",
   "execution_count": 17,
   "id": "5de9243f",
   "metadata": {},
   "outputs": [
    {
     "data": {
      "text/plain": [
       "SVC()"
      ]
     },
     "execution_count": 17,
     "metadata": {},
     "output_type": "execute_result"
    }
   ],
   "source": [
    "np.random.seed(1111) \n",
    "\n",
    "blending_model_half = SVC()\n",
    "blending_model_half.fit(train_blending_half, y_val_grade_half)"
   ]
  },
  {
   "cell_type": "code",
   "execution_count": 18,
   "id": "698c1643",
   "metadata": {
    "scrolled": false
   },
   "outputs": [
    {
     "name": "stdout",
     "output_type": "stream",
     "text": [
      "Accuracy of stacking ensemble 42.028985507246375%\n"
     ]
    }
   ],
   "source": [
    "print(f'Accuracy of stacking ensemble {blending_model_half.score(test_blending_half, y_test_grade_half)*100}%')"
   ]
  },
  {
   "cell_type": "code",
   "execution_count": 19,
   "id": "55a56554",
   "metadata": {},
   "outputs": [
    {
     "data": {
      "text/plain": [
       "SVR(C=2.0)"
      ]
     },
     "execution_count": 19,
     "metadata": {},
     "output_type": "execute_result"
    }
   ],
   "source": [
    "# Create a model\n",
    "# SVR\n",
    "model_grade_half = SVR(C = 2.0, epsilon = 0.1)\n",
    "\n",
    "model_grade_half.fit(X_train_half, y_train_grade_half)"
   ]
  },
  {
   "cell_type": "code",
   "execution_count": 20,
   "id": "9dc5f2be",
   "metadata": {},
   "outputs": [
    {
     "data": {
      "text/plain": [
       "0.4856076390211893"
      ]
     },
     "execution_count": 20,
     "metadata": {},
     "output_type": "execute_result"
    }
   ],
   "source": [
    "model_grade_half.score(X_test_half, y_test_grade_half)"
   ]
  },
  {
   "cell_type": "markdown",
   "id": "ec3bac5e",
   "metadata": {},
   "source": [
    "## 11 week data"
   ]
  },
  {
   "cell_type": "code",
   "execution_count": 21,
   "id": "fdb0f52b",
   "metadata": {},
   "outputs": [],
   "source": [
    "columns = [\n",
    "        'Test:1. nädala test (Punktid)',\n",
    "        'Test:2. nädala test (Punktid)',\n",
    "        'Test:3. nädala test (Punktid)',\n",
    "        'Test:4. nädala test (Punktid)',\n",
    "        'Test:5. nädala test (Punktid)',\n",
    "        'Test:6. nädala test (Punktid)',\n",
    "        'Test:7. nädala test (Punktid)',\n",
    "        'Test:8. nädala test (Punktid)',\n",
    "        'Test:9. nädala test (Punktid)',\n",
    "        'Test:10. nädala test (Punktid)',\n",
    "        'Test:11. nädala test (Punktid)',\n",
    "        'VPL harjutus:1. nädala kodutöö (Punktid)',\n",
    "        'VPL harjutus:2. nädala kodutöö (Punktid)',\n",
    "        'VPL harjutus:3. nädala kodutöö (Punktid)',\n",
    "        'VPL harjutus:4. nädala kodutöö (Punktid)',\n",
    "        'VPL harjutus:5. nädala kodutöö (Punktid)',\n",
    "        'VPL harjutus:7. nädala kodutöö (Punktid)',\n",
    "        'VPL harjutus:8. nädala kodutöö (Punktid)',\n",
    "        'VPL harjutus:9. nädala kodutöö (Punktid)',\n",
    "        'VPL harjutus:10. nädala kodutöö (Punktid)',\n",
    "        'VPL harjutus:11. nädala kodutöö (Punktid)',\n",
    "        'VPL harjutus1:Praktikumitöö esitamine (Punktid)',\n",
    "        'VPL harjutus2:Praktikumitöö esitamine (Punktid)',\n",
    "        'VPL harjutus3:Praktikumitöö esitamine (Punktid)',\n",
    "        'VPL harjutus4:Praktikumitöö esitamine (Punktid)',\n",
    "        'VPL harjutus5:Praktikumitöö esitamine (Punktid)',\n",
    "        'VPL harjutus7:Praktikumitöö esitamine (Punktid)',\n",
    "        'VPL harjutus8:Praktikumitöö esitamine (Punktid)',\n",
    "        'VPL harjutus9:Praktikumitöö esitamine (Punktid)',\n",
    "        'VPL harjutus10:Praktikumitöö esitamine (Punktid)',\n",
    "        'VPL harjutus11:Praktikumitöö esitamine (Punktid)',\n",
    "        'Ülesanne:Esita projekti kirjeldus (Punktid)',\n",
    "        'Ülesanne:Projekti algversioon (Punktid)',\n",
    "        'VPL harjutus:1. kontrolltöö programmide esitamine (Punktid)',\n",
    "        'Test:1. kontrolltöö arvestuslik osa (Punktid)',\n",
    "        'VPL harjutus:1. kontrolltöö programmide esitamine (Punktid)',\n",
    "        'Test:1. KT järeltöö arvestuslik osa (Punktid)',\n",
    "        'VPL harjutus:1. KT järeltöö programmide esitamine (Punktid)',\n",
    "        'Test:1. KT 5.01 lisajäreltöö arvestuslik osa (Punktid)',\n",
    "        'VPL harjutus:1. KT 5.01 lisajäreltöö programmide esitamine (Punktid)',\n",
    "        'Ülesanne:1. KT 5.01 lisajäreltöö logide ja video esitamine (Punktid)',\n",
    "        'Test:1. KT 25.01 lisajäreltöö arvestuslik osa (Punktid)',\n",
    "        'VPL harjutus:1. KT 25.01 lisajäreltöö programmide esitamine (Punktid)',\n",
    "        'Ülesanne:1. KT 25.01 lisajäreltöö logide ja video esitamine (Punktid)',\n",
    "        'Grade',\n",
    "        'Pass'\n",
    "    ]\n",
    "df, df_11 = preprocess(file, columns)\n",
    "\n",
    "df_11[['Videoloengud kokku (Punktid)']] = df[['Videoloengud kokku (Punktid)']]/16*11"
   ]
  },
  {
   "cell_type": "code",
   "execution_count": 22,
   "id": "e9f4a495",
   "metadata": {},
   "outputs": [],
   "source": [
    "train_11, test_11 = train_test_split(df_11, test_size=0.2, random_state=42)\n",
    "\n",
    "X_train_11 = train_11.drop(['Grade', 'Pass'], axis=1)\n",
    "y_train_grade_11 = train_11[['Grade']]\n",
    "\n",
    "\n",
    "X_test_11 = test_11.drop(['Grade', 'Pass'], axis=1)\n",
    "y_test_grade_11 = test_11[['Grade']]"
   ]
  },
  {
   "cell_type": "code",
   "execution_count": 23,
   "id": "17e913ef",
   "metadata": {},
   "outputs": [
    {
     "data": {
      "text/plain": [
       "SVR(C=2.0)"
      ]
     },
     "execution_count": 23,
     "metadata": {},
     "output_type": "execute_result"
    }
   ],
   "source": [
    "# Create a model\n",
    "# SVR\n",
    "model_grade_11 =  SVR(C = 2.0, epsilon = 0.1)\n",
    "\n",
    "model_grade_11.fit(X_train_11, y_train_grade_11)"
   ]
  },
  {
   "cell_type": "code",
   "execution_count": 24,
   "id": "ffe6ef6e",
   "metadata": {},
   "outputs": [
    {
     "name": "stdout",
     "output_type": "stream",
     "text": [
      "MSE: 1.2719854997885525\n",
      "MAE: 0.7896813754429518\n",
      "Accuracy: 0.5439130166822338\n"
     ]
    }
   ],
   "source": [
    "y_pred_11 = model_grade_11.predict(X_test_11)\n",
    "\n",
    "mse = mean_squared_error(y_test_grade_11, y_pred_11)\n",
    "    \n",
    "mae = mean_absolute_error(y_test_grade_11, y_pred_11)\n",
    "    \n",
    "acc = model_grade_11.score(X_test_11, y_test_grade_11)\n",
    "    \n",
    "print(f'MSE: {mse}')\n",
    "print(f'MAE: {mae}')\n",
    "print(f'Accuracy: {acc}')"
   ]
  },
  {
   "cell_type": "markdown",
   "id": "5649d2e1",
   "metadata": {},
   "source": [
    "## 12 week data"
   ]
  },
  {
   "cell_type": "code",
   "execution_count": 25,
   "id": "c7c1d3d1",
   "metadata": {},
   "outputs": [],
   "source": [
    "columns = [\n",
    "        'Test:1. nädala test (Punktid)',\n",
    "        'Test:2. nädala test (Punktid)',\n",
    "        'Test:3. nädala test (Punktid)',\n",
    "        'Test:4. nädala test (Punktid)',\n",
    "        'Test:5. nädala test (Punktid)',\n",
    "        'Test:6. nädala test (Punktid)',\n",
    "        'Test:7. nädala test (Punktid)',\n",
    "        'Test:8. nädala test (Punktid)',\n",
    "        'Test:9. nädala test (Punktid)',\n",
    "        'Test:10. nädala test (Punktid)',\n",
    "        'Test:11. nädala test (Punktid)',\n",
    "        'Test:12. nädala test (Punktid)',\n",
    "        'VPL harjutus:1. nädala kodutöö (Punktid)',\n",
    "        'VPL harjutus:2. nädala kodutöö (Punktid)',\n",
    "        'VPL harjutus:3. nädala kodutöö (Punktid)',\n",
    "        'VPL harjutus:4. nädala kodutöö (Punktid)',\n",
    "        'VPL harjutus:5. nädala kodutöö (Punktid)',\n",
    "        'VPL harjutus:7. nädala kodutöö (Punktid)',\n",
    "        'VPL harjutus:8. nädala kodutöö (Punktid)',\n",
    "        'VPL harjutus:9. nädala kodutöö (Punktid)',\n",
    "        'VPL harjutus:10. nädala kodutöö (Punktid)',\n",
    "        'VPL harjutus:11. nädala kodutöö (Punktid)',\n",
    "        'VPL harjutus1:Praktikumitöö esitamine (Punktid)',\n",
    "        'VPL harjutus2:Praktikumitöö esitamine (Punktid)',\n",
    "        'VPL harjutus3:Praktikumitöö esitamine (Punktid)',\n",
    "        'VPL harjutus4:Praktikumitöö esitamine (Punktid)',\n",
    "        'VPL harjutus5:Praktikumitöö esitamine (Punktid)',\n",
    "        'VPL harjutus7:Praktikumitöö esitamine (Punktid)',\n",
    "        'VPL harjutus8:Praktikumitöö esitamine (Punktid)',\n",
    "        'VPL harjutus9:Praktikumitöö esitamine (Punktid)',\n",
    "        'VPL harjutus10:Praktikumitöö esitamine (Punktid)',\n",
    "        'VPL harjutus11:Praktikumitöö esitamine (Punktid)',\n",
    "        'Ülesanne:Esita projekti kirjeldus (Punktid)',\n",
    "        'Ülesanne:Projekti algversioon (Punktid)',\n",
    "        'VPL harjutus:1. kontrolltöö programmide esitamine (Punktid)',\n",
    "        'Test:1. kontrolltöö arvestuslik osa (Punktid)',\n",
    "        'VPL harjutus:1. kontrolltöö programmide esitamine (Punktid)',\n",
    "        'Test:1. KT järeltöö arvestuslik osa (Punktid)',\n",
    "        'VPL harjutus:1. KT järeltöö programmide esitamine (Punktid)',\n",
    "        'Test:1. KT 5.01 lisajäreltöö arvestuslik osa (Punktid)',\n",
    "        'VPL harjutus:1. KT 5.01 lisajäreltöö programmide esitamine (Punktid)',\n",
    "        'Ülesanne:1. KT 5.01 lisajäreltöö logide ja video esitamine (Punktid)',\n",
    "        'Test:1. KT 25.01 lisajäreltöö arvestuslik osa (Punktid)',\n",
    "        'VPL harjutus:1. KT 25.01 lisajäreltöö programmide esitamine (Punktid)',\n",
    "        'Ülesanne:1. KT 25.01 lisajäreltöö logide ja video esitamine (Punktid)',\n",
    "        'Grade',\n",
    "        'Pass'\n",
    "    ]\n",
    "df, df_12 = preprocess(file, columns)\n",
    "\n",
    "df_12[['Videoloengud kokku (Punktid)']] = df[['Videoloengud kokku (Punktid)']]/16*12"
   ]
  },
  {
   "cell_type": "code",
   "execution_count": 26,
   "id": "32e583b3",
   "metadata": {},
   "outputs": [],
   "source": [
    "train_12, test_12 = train_test_split(df_12, test_size=0.2, random_state=42)\n",
    "\n",
    "X_train_12 = train_12.drop(['Grade', 'Pass'], axis=1)\n",
    "y_train_grade_12 = train_12[['Grade']]\n",
    "\n",
    "\n",
    "X_test_12 = test_12.drop(['Grade', 'Pass'], axis=1)\n",
    "y_test_grade_12 = test_12[['Grade']]"
   ]
  },
  {
   "cell_type": "code",
   "execution_count": 27,
   "id": "253b31f1",
   "metadata": {},
   "outputs": [
    {
     "data": {
      "text/plain": [
       "SVR(C=2.0)"
      ]
     },
     "execution_count": 27,
     "metadata": {},
     "output_type": "execute_result"
    }
   ],
   "source": [
    "# Create a model\n",
    "# SVR\n",
    "model_grade_12 =  SVR(C = 2.0, epsilon = 0.1)\n",
    "\n",
    "model_grade_12.fit(X_train_12, y_train_grade_12)"
   ]
  },
  {
   "cell_type": "code",
   "execution_count": 28,
   "id": "520bb3e9",
   "metadata": {},
   "outputs": [
    {
     "name": "stdout",
     "output_type": "stream",
     "text": [
      "MSE: 1.2509010688048958\n",
      "MAE: 0.7877890632358951\n",
      "Accuracy: 0.551473114280757\n"
     ]
    }
   ],
   "source": [
    "y_pred_12 = model_grade_12.predict(X_test_12)\n",
    "\n",
    "mse = mean_squared_error(y_test_grade_12, y_pred_12)\n",
    "    \n",
    "mae = mean_absolute_error(y_test_grade_12, y_pred_12)\n",
    "    \n",
    "acc = model_grade_12.score(X_test_12, y_test_grade_12)\n",
    "    \n",
    "print(f'MSE: {mse}')\n",
    "print(f'MAE: {mae}')\n",
    "print(f'Accuracy: {acc}')"
   ]
  },
  {
   "cell_type": "markdown",
   "id": "43068909",
   "metadata": {},
   "source": [
    "## 13 week data"
   ]
  },
  {
   "cell_type": "code",
   "execution_count": 29,
   "id": "1b74d778",
   "metadata": {},
   "outputs": [],
   "source": [
    "columns = [\n",
    "        'Test:1. nädala test (Punktid)',\n",
    "        'Test:2. nädala test (Punktid)',\n",
    "        'Test:3. nädala test (Punktid)',\n",
    "        'Test:4. nädala test (Punktid)',\n",
    "        'Test:5. nädala test (Punktid)',\n",
    "        'Test:6. nädala test (Punktid)',\n",
    "        'Test:7. nädala test (Punktid)',\n",
    "        'Test:8. nädala test (Punktid)',\n",
    "        'Test:9. nädala test (Punktid)',\n",
    "        'Test:10. nädala test (Punktid)',\n",
    "        'Test:11. nädala test (Punktid)',\n",
    "        'Test:12. nädala test (Punktid)',\n",
    "        'Test:13. nädala test (Punktid)',\n",
    "        'VPL harjutus:1. nädala kodutöö (Punktid)',\n",
    "        'VPL harjutus:2. nädala kodutöö (Punktid)',\n",
    "        'VPL harjutus:3. nädala kodutöö (Punktid)',\n",
    "        'VPL harjutus:4. nädala kodutöö (Punktid)',\n",
    "        'VPL harjutus:5. nädala kodutöö (Punktid)',\n",
    "        'VPL harjutus:7. nädala kodutöö (Punktid)',\n",
    "        'VPL harjutus:8. nädala kodutöö (Punktid)',\n",
    "        'VPL harjutus:9. nädala kodutöö (Punktid)',\n",
    "        'VPL harjutus:10. nädala kodutöö (Punktid)',\n",
    "        'VPL harjutus:11. nädala kodutöö (Punktid)',\n",
    "        'VPL harjutus:13. nädala kodutöö (Punktid)',\n",
    "        'VPL harjutus1:Praktikumitöö esitamine (Punktid)',\n",
    "        'VPL harjutus2:Praktikumitöö esitamine (Punktid)',\n",
    "        'VPL harjutus3:Praktikumitöö esitamine (Punktid)',\n",
    "        'VPL harjutus4:Praktikumitöö esitamine (Punktid)',\n",
    "        'VPL harjutus5:Praktikumitöö esitamine (Punktid)',\n",
    "        'VPL harjutus7:Praktikumitöö esitamine (Punktid)',\n",
    "        'VPL harjutus8:Praktikumitöö esitamine (Punktid)',\n",
    "        'VPL harjutus9:Praktikumitöö esitamine (Punktid)',\n",
    "        'VPL harjutus10:Praktikumitöö esitamine (Punktid)',\n",
    "        'VPL harjutus11:Praktikumitöö esitamine (Punktid)',\n",
    "        'VPL harjutus13:Praktikumitöö esitamine (Punktid)',\n",
    "        'Ülesanne:Esita projekti kirjeldus (Punktid)',\n",
    "        'Ülesanne:Projekti algversioon (Punktid)',\n",
    "        'VPL harjutus:1. kontrolltöö programmide esitamine (Punktid)',\n",
    "        'Test:1. kontrolltöö arvestuslik osa (Punktid)',\n",
    "        'VPL harjutus:1. kontrolltöö programmide esitamine (Punktid)',\n",
    "        'Test:1. KT järeltöö arvestuslik osa (Punktid)',\n",
    "        'VPL harjutus:1. KT järeltöö programmide esitamine (Punktid)',\n",
    "        'Test:1. KT 5.01 lisajäreltöö arvestuslik osa (Punktid)',\n",
    "        'VPL harjutus:1. KT 5.01 lisajäreltöö programmide esitamine (Punktid)',\n",
    "        'Ülesanne:1. KT 5.01 lisajäreltöö logide ja video esitamine (Punktid)',\n",
    "        'Test:1. KT 25.01 lisajäreltöö arvestuslik osa (Punktid)',\n",
    "        'VPL harjutus:1. KT 25.01 lisajäreltöö programmide esitamine (Punktid)',\n",
    "        'Ülesanne:1. KT 25.01 lisajäreltöö logide ja video esitamine (Punktid)',\n",
    "        'Grade',\n",
    "        'Pass'\n",
    "    ]\n",
    "df, df_13 = preprocess(file, columns)\n",
    "\n",
    "df_13[['Videoloengud kokku (Punktid)']] = df[['Videoloengud kokku (Punktid)']]/16*13"
   ]
  },
  {
   "cell_type": "code",
   "execution_count": 30,
   "id": "78de5c82",
   "metadata": {},
   "outputs": [],
   "source": [
    "train_13, test_13 = train_test_split(df_13, test_size=0.2, random_state=42)\n",
    "\n",
    "X_train_13 = train_13.drop(['Grade', 'Pass'], axis=1)\n",
    "y_train_grade_13 = train_13[['Grade']]\n",
    "\n",
    "\n",
    "X_test_13 = test_13.drop(['Grade', 'Pass'], axis=1)\n",
    "y_test_grade_13 = test_13[['Grade']]"
   ]
  },
  {
   "cell_type": "code",
   "execution_count": 31,
   "id": "05092b75",
   "metadata": {},
   "outputs": [
    {
     "data": {
      "text/plain": [
       "SVR(C=2.0)"
      ]
     },
     "execution_count": 31,
     "metadata": {},
     "output_type": "execute_result"
    }
   ],
   "source": [
    "# Create a model\n",
    "# SVR\n",
    "model_grade_13 =  SVR(C = 2.0, epsilon = 0.1)\n",
    "\n",
    "model_grade_13.fit(X_train_13, y_train_grade_13)"
   ]
  },
  {
   "cell_type": "code",
   "execution_count": 32,
   "id": "5062cda9",
   "metadata": {},
   "outputs": [
    {
     "name": "stdout",
     "output_type": "stream",
     "text": [
      "MSE: 1.223716830180338\n",
      "MAE: 0.7801999980081823\n",
      "Accuracy: 0.5612203774296889\n"
     ]
    }
   ],
   "source": [
    "y_pred_13 = model_grade_13.predict(X_test_13)\n",
    "\n",
    "mse = mean_squared_error(y_test_grade_13, y_pred_13)\n",
    "    \n",
    "mae = mean_absolute_error(y_test_grade_13, y_pred_13)\n",
    "    \n",
    "acc = model_grade_13.score(X_test_13, y_test_grade_13)\n",
    "    \n",
    "print(f'MSE: {mse}')\n",
    "print(f'MAE: {mae}')\n",
    "print(f'Accuracy: {acc}')"
   ]
  },
  {
   "cell_type": "markdown",
   "id": "104863c1",
   "metadata": {},
   "source": [
    "# Predicting grades by removing weekly values"
   ]
  },
  {
   "cell_type": "markdown",
   "id": "8d853103",
   "metadata": {},
   "source": [
    "# Removing people who did the pre-exam and starting to remove data from the final weeks"
   ]
  },
  {
   "cell_type": "code",
   "execution_count": 33,
   "id": "e66269d4",
   "metadata": {
    "scrolled": true
   },
   "outputs": [],
   "source": [
    "# Full dataset with the basic columns removed\n",
    "def accuracy(df):\n",
    "\n",
    "    train, test = train_test_split(df, test_size=0.2, random_state=42)\n",
    "\n",
    "    X_train = train.drop(['Grade', 'Pass'], axis=1)\n",
    "    y_train = train[['Grade']]\n",
    "\n",
    "    X_test = test.drop(['Grade', 'Pass'], axis=1)\n",
    "    y_test = test[['Grade']]\n",
    "\n",
    "    model_grade =  SVR(C = 2.0, epsilon = 0.1)\n",
    "    model_grade.fit(X_train, y_train)\n",
    "    \n",
    "    y_pred = model_grade.predict(X_test)\n",
    "    \n",
    "    mse = mean_squared_error(y_test, y_pred)\n",
    "    \n",
    "    mae = mean_absolute_error(y_test, y_pred)\n",
    "    \n",
    "    acc = model_grade.score(X_test, y_test)\n",
    "    \n",
    "    print(f'MSE: {mse}')\n",
    "    print(f'MAE: {mae}')\n",
    "    return acc, mse, mae\n"
   ]
  },
  {
   "cell_type": "markdown",
   "id": "39b1d46e",
   "metadata": {},
   "source": [
    "### The original data the default removed columns"
   ]
  },
  {
   "cell_type": "code",
   "execution_count": 34,
   "id": "023b4bc2",
   "metadata": {},
   "outputs": [
    {
     "name": "stdout",
     "output_type": "stream",
     "text": [
      "MSE: 0.43807892789778896\n",
      "MAE: 0.4634826485193596\n",
      "The accuracy on all students: 84.29%\n"
     ]
    }
   ],
   "source": [
    "df, df_ = preprocess(file, columns)\n",
    "\n",
    "acc, mse, mae = accuracy(df)\n",
    "\n",
    "print(f'The accuracy on all students: {round(acc*100, 2)}%')"
   ]
  },
  {
   "cell_type": "markdown",
   "id": "6051eb6f",
   "metadata": {},
   "source": [
    "### Remove the people who did the pre exam"
   ]
  },
  {
   "cell_type": "code",
   "execution_count": 35,
   "id": "5320b29f",
   "metadata": {},
   "outputs": [
    {
     "name": "stdout",
     "output_type": "stream",
     "text": [
      "MSE: 0.4502856563292599\n",
      "MAE: 0.47827785766043646\n",
      "The accuracy on full-course students: 78.34%\n"
     ]
    }
   ],
   "source": [
    "df = df[df['Ülesanne:Eeleksamile registreerumine (Punktid)'] != 1.0]\n",
    "\n",
    "to_drop = [\n",
    "    'Ülesanne:Eeleksamile registreerumine (Punktid)',\n",
    "    'Test:Eeleksami arvestuslik osa (Punktid)',\n",
    "    'Ülesanne:Eeleksami punktiline osa (Punktid)'\n",
    "]\n",
    "df = df.drop(to_drop, axis=1)\n",
    "\n",
    "acc, mse, mae = accuracy(df)\n",
    "\n",
    "print(f'The accuracy on full-course students: {round(acc*100, 2)}%')"
   ]
  },
  {
   "cell_type": "markdown",
   "id": "478d1b29",
   "metadata": {},
   "source": [
    "## Removing lecture points and project total points"
   ]
  },
  {
   "cell_type": "code",
   "execution_count": 36,
   "id": "a718c7ab",
   "metadata": {},
   "outputs": [
    {
     "name": "stdout",
     "output_type": "stream",
     "text": [
      "MSE: 0.4754370638771281\n",
      "MAE: 0.4964940152636252\n",
      "The accuracy: 77.13%\n"
     ]
    }
   ],
   "source": [
    "to_drop = [\n",
    "    'Videoloengud kokku (Punktid)',\n",
    "    'Projekt kokku (Punktid)',\n",
    "    'Ülesanne:Projekti lõppversioon (Punktid)'\n",
    "]\n",
    "df = df.drop(to_drop, axis=1)\n",
    "\n",
    "acc, mse, mae = accuracy(df)\n",
    "\n",
    "mse_values.append(mse)\n",
    "mae_values.append(mae)\n",
    "\n",
    "print(f'The accuracy: {round(acc*100, 2)}%')"
   ]
  },
  {
   "cell_type": "markdown",
   "id": "fec240fc",
   "metadata": {},
   "source": [
    "## Removing week 15"
   ]
  },
  {
   "cell_type": "code",
   "execution_count": 37,
   "id": "d96f6862",
   "metadata": {
    "scrolled": false
   },
   "outputs": [
    {
     "name": "stdout",
     "output_type": "stream",
     "text": [
      "MSE: 0.479291332998964\n",
      "MAE: 0.4998488073271409\n",
      "The accuracy: 76.95%\n"
     ]
    }
   ],
   "source": [
    "to_drop = [\n",
    "    'VPL harjutus15:Praktikumitöö esitamine (Punktid)',\n",
    "    'VPL harjutus:15. nädala kodutöö (Punktid)',\n",
    "    'Test:15. nädala test (Punktid)',\n",
    "    'Test:16. nädala test (Punktid)'\n",
    "]\n",
    "\n",
    "df = df.drop(to_drop, axis=1)\n",
    "\n",
    "acc, mse, mae = accuracy(df)\n",
    "\n",
    "mse_values.append(mse)\n",
    "mae_values.append(mae)\n",
    "\n",
    "print(f'The accuracy: {round(acc*100, 2)}%')"
   ]
  },
  {
   "cell_type": "markdown",
   "id": "ad98fef1",
   "metadata": {},
   "source": [
    "## Removing week 14"
   ]
  },
  {
   "cell_type": "code",
   "execution_count": 38,
   "id": "8a11aaee",
   "metadata": {},
   "outputs": [
    {
     "name": "stdout",
     "output_type": "stream",
     "text": [
      "MSE: 0.4841619292301037\n",
      "MAE: 0.5021542846362701\n",
      "The accuracy: 76.71%\n"
     ]
    }
   ],
   "source": [
    "to_drop = [\n",
    "    'VPL harjutus14:Praktikumitöö esitamine (Punktid)',\n",
    "    'VPL harjutus:14. nädala kodutöö (Punktid)',\n",
    "    'Test:14. nädala test (Punktid)',\n",
    "]\n",
    "\n",
    "df = df.drop(to_drop, axis=1)\n",
    "\n",
    "acc, mse, mae = accuracy(df)\n",
    "\n",
    "mse_values.append(mse)\n",
    "mae_values.append(mae)\n",
    "\n",
    "print(f'The accuracy: {round(acc*100, 2)}%')"
   ]
  },
  {
   "cell_type": "markdown",
   "id": "ad555a57",
   "metadata": {},
   "source": [
    "## Removing week 13"
   ]
  },
  {
   "cell_type": "code",
   "execution_count": 39,
   "id": "bb1aa1e3",
   "metadata": {},
   "outputs": [
    {
     "name": "stdout",
     "output_type": "stream",
     "text": [
      "MSE: 0.4875740180679553\n",
      "MAE: 0.5044013299087683\n",
      "The accuracy: 76.55%\n"
     ]
    }
   ],
   "source": [
    "to_drop = [\n",
    "    'VPL harjutus13:Praktikumitöö esitamine (Punktid)',\n",
    "    'VPL harjutus:13. nädala kodutöö (Punktid)',\n",
    "    'Test:13. nädala test (Punktid)',\n",
    "]\n",
    "\n",
    "df = df.drop(to_drop, axis=1)\n",
    "\n",
    "acc, mse, mae = accuracy(df)\n",
    "\n",
    "mse_values.append(mse)\n",
    "mae_values.append(mae)\n",
    "\n",
    "print(f'The accuracy: {round(acc*100, 2)}%')"
   ]
  },
  {
   "cell_type": "markdown",
   "id": "bdf385e2",
   "metadata": {},
   "source": [
    "## Removing week 12 and 11"
   ]
  },
  {
   "cell_type": "code",
   "execution_count": 40,
   "id": "287caf68",
   "metadata": {
    "scrolled": true
   },
   "outputs": [
    {
     "name": "stdout",
     "output_type": "stream",
     "text": [
      "MSE: 1.0797204063070767\n",
      "MAE: 0.7214226801412928\n",
      "The accuracy: 48.07%\n"
     ]
    }
   ],
   "source": [
    "to_drop = [\n",
    "    'VPL harjutus11:Praktikumitöö esitamine (Punktid)',\n",
    "    'VPL harjutus:11. nädala kodutöö (Punktid)',\n",
    "    'Test:12. nädala test (Punktid)',\n",
    "    'Test:11. nädala test (Punktid)',\n",
    "    'Test:2. kontrolltöö arvestuslik osa (Punktid)',\n",
    "    'VPL harjutus:2. kontrolltöö programmide esitamine (Punktid)',\n",
    "    'Test:2. KT järeltöö arvestuslik osa (Punktid)',\n",
    "    'VPL harjutus:2. KT järeltöö programmide esitamine (Punktid)',\n",
    "    'Test:2. KT 6.01 lisajäreltöö arvestuslik osa (Punktid)',\n",
    "    'VPL harjutus:2. KT 6.01 lisajäreltöö programmide esitamine (Punktid)',\n",
    "    'Test:2. KT 26.01 lisajäreltöö arvestuslik osa (Punktid)',\n",
    "    'VPL harjutus:2. KT 26.01 lisajäreltöö programmide esitamine (Punktid)',\n",
    "]\n",
    "\n",
    "df = df.drop(to_drop, axis=1)\n",
    "\n",
    "acc, mse, mae = accuracy(df)\n",
    "\n",
    "mse_values.append(mse)\n",
    "mae_values.append(mae)\n",
    "\n",
    "print(f'The accuracy: {round(acc*100, 2)}%')"
   ]
  },
  {
   "cell_type": "markdown",
   "id": "1ac6bbe6",
   "metadata": {},
   "source": [
    "# Graph for visualizing the growth of MSE and MAE"
   ]
  },
  {
   "cell_type": "code",
   "execution_count": 41,
   "id": "375f47b2",
   "metadata": {},
   "outputs": [
    {
     "data": {
      "text/plain": [
       "Text(0, 0.5, 'MAE')"
      ]
     },
     "execution_count": 41,
     "metadata": {},
     "output_type": "execute_result"
    },
    {
     "data": {
      "image/png": "[encoded data removed]",
      "text/plain": [
       "<Figure size 1080x720 with 2 Axes>"
      ]
     },
     "metadata": {
      "needs_background": "light"
     },
     "output_type": "display_data"
    }
   ],
   "source": [
    "plt.rcParams[\"figure.figsize\"] = (15,10)\n",
    "\n",
    "fig, axs = plt.subplots(2)\n",
    "fig.suptitle('MSE and MAE values for SVR model')\n",
    "axs[0].plot(weeks, mse_values, 'ro--')\n",
    "axs[1].plot(weeks, mae_values, 'bo--')\n",
    "\n",
    "axs[0].set_xlabel('weeks included in data')\n",
    "axs[1].set_xlabel('weeks included in data')\n",
    "\n",
    "axs[0].set_ylabel('MSE')\n",
    "axs[1].set_ylabel('MAE')"
   ]
  },
  {
   "attachments": {
    "image.png": {
     "image/png": "[encoded data removed]"
    }
   },
   "cell_type": "markdown",
   "id": "59b35d7a",
   "metadata": {},
   "source": [
    "# Some results in an easier to read form:\n",
    "#### If dropping these columns from the database <br>\n",
    "![image.png](attachment:image.png)\n",
    "\n",
    "We can get a regression model SVR() with the following evaluations:<br>\n",
    "MSE: 0.43807892789778896<br>\n",
    "MAE: 0.4634826485193596<br>\n",
    "Accuracy: 0.8429210893416649<br>\n",
    "Which is quite good but it fails to give any real results due to the fact that it is basically predicting on already full points with a few features removed. <br>\n",
    "Trying to use classification and a stacking ensamble fails and manages to get under 50% accuracy on both the full weekly dataset and also 10 week dataset. <br>\n",
    "\n",
    "#### But removing all the students who took the pre-exam to pass the course, the regression model is then able to predict with an accuracy of 78%. With MSE: 0.45 and MAE: 0.48, the model can be considered quite good and useful for predicting the students' results before the exam. Even when removing lecture points, weeks 13-16, the model manages to retain an MSE: 0.488 and MAE: 0.504 with an accuracy of 76.55%.\n",
    "#### After removing the week 12 data, the results drop a lot because the 6th week and 12th week tests play a big role in predicting the end grade for a student.\n",
    "#### In conclusion, it is possible to predict the final grades after the 12th week and with good accuracy and low MSE / MAE, as the magnitude of error is quite low.\n"
   ]
  },
  {
   "cell_type": "markdown",
   "id": "ce46baf4",
   "metadata": {},
   "source": [
    "## Feature importance with a linear SVR kernel\n",
    "Feature: 0, Score: -0.56932 <br>\n",
    "Feature: 1, Score: -0.29239<br>\n",
    "Feature: 2, Score: -0.44698<br>\n",
    "Feature: 3, Score: 0.07447<br>\n",
    "Feature: 4, Score: -0.33277<br>\n",
    "Feature: 5, Score: -0.62865<br>\n",
    "Feature: 6, Score: -0.69544<br>\n",
    "Feature: 7, Score: -0.12646<br>\n",
    "Feature: 8, Score: -0.50488<br>\n",
    "Feature: 9, Score: -0.34373<br>\n",
    "Feature: 10, Score: -0.05718<br>\n",
    "Feature: 11, Score: -0.62606<br>\n",
    "Feature: 12, Score: 0.13439<br>\n",
    "Feature: 13, Score: -0.32403<br>\n",
    "Feature: 14, Score: -0.55690<br>\n",
    "Feature: 15, Score: -0.40671<br>\n",
    "Feature: 16, Score: 0.38266<br>\n",
    "Feature: 17, Score: 0.03854<br>\n",
    "Feature: 18, Score: -0.05631<br>\n",
    "Feature: 19, Score: -0.01423<br>\n",
    "Feature: 20, Score: 0.26783<br>\n",
    "Feature: 21, Score: -0.37423<br>\n",
    "Feature: 22, Score: -0.34371<br>\n",
    "Feature: 23, Score: -0.29454<br>\n",
    "Feature: 24, Score: 0.11567<br>\n",
    "Feature: 25, Score: 0.31616<br>\n",
    "Feature: 26, Score: 0.39812<br>\n",
    "<b>Feature: 27, Score: 0.99660</b><br>\n",
    "Feature: 28, Score: 0.26780<br>\n",
    "Feature: 29, Score: 0.36022<br>\n",
    "Feature: 30, Score: 0.06819<br>\n",
    "Feature: 31, Score: -0.00816<br>\n",
    "Feature: 32, Score: -0.46840<br>\n",
    "Feature: 33, Score: 0.09865<br>\n",
    "Feature: 34, Score: -0.14645<br>\n",
    "Feature: 35, Score: 0.04032<br>\n",
    "Feature: 36, Score: 0.23945<br>\n",
    "Feature: 37, Score: 0.25085<br>\n",
    "Feature: 38, Score: -0.15019<br>\n",
    "Feature: 39, Score: 0.73085<br>\n",
    "Feature: 40, Score: -0.11563<br>\n",
    "Feature: 41, Score: -0.10871<br>\n",
    "Feature: 42, Score: -0.09047<br>\n",
    "Feature: 43, Score: -0.06043<br>\n",
    "Feature: 44, Score: 0.03780<br>\n",
    "Feature: 45, Score: -0.00526<br>\n",
    "Feature: 46, Score: 0.03254<br>\n",
    "Feature: 47, Score: -1.34776<br>\n",
    "Feature: 48, Score: 0.05485<br>\n",
    "Feature: 49, Score: -1.18263<br>\n",
    "Feature: 50, Score: 0.03013<br>\n",
    "Feature: 51, Score: 0.00000<br>\n",
    "Feature: 52, Score: 0.01806<br>\n",
    "Feature: 53, Score: 0.00000<br>\n",
    "Feature: 54, Score: 0.00000<br>\n",
    "Feature: 55, Score: 0.05104<br>\n",
    "Feature: 56, Score: 0.00000<br>\n",
    "Feature: 57, Score: 0.22972<br>\n",
    "Feature: 58, Score: 0.02166<br>\n",
    "Feature: 59, Score: 0.21119<br>\n",
    "Feature: 60, Score: 0.01951<br>\n",
    "Feature: 61, Score: 0.24364<br>\n",
    "Feature: 62, Score: 0.02470<br>\n",
    "Feature: 63, Score: 0.00000<br>\n",
    "Feature: 64, Score: -0.00097<br>\n",
    "Feature: 65, Score: -0.00821<br>\n",
    "Feature: 66, Score: 0.00000<br>\n",
    "Feature: 67, Score: -0.97921<br>\n",
    "Feature: 68, Score: -0.94723<br>\n",
    "Feature: 69, Score: 0.06875<br>\n",
    "Feature: 70, Score: -0.21158<br>\n",
    "Feature: 71, Score: -0.03277<br>\n",
    "Feature: 72, Score: 0.01133<br>\n",
    "Feature: 73, Score: 0.00000<br>\n",
    "Feature: 74, Score: -0.41092<br>\n",
    "Feature: 75, Score: -0.03385<br>\n",
    "Feature: 76, Score: 0.02489<br>\n",
    "Feature: 77, Score: 0.00000<br>\n",
    "Feature: 78, Score: -0.71852<br>\n",
    "Feature: 79, Score: 0.00137<br>\n",
    "Feature: 80, Score: 0.03623<br>\n",
    "Feature: 81, Score: 0.00000<br>\n",
    "Feature: 82, Score: 0.10734<br>\n",
    "Feature: 83, Score: 0.08386<br>\n",
    "Feature: 84, Score: -0.03067<br>\n",
    "Feature: 85, Score: -0.03736<br>\n",
    "Feature: 86, Score: -0.02743<br>\n",
    "Feature: 87, Score: 0.03013<br>\n",
    "Feature: 88, Score: -0.15785<br>\n",
    "Feature: 89, Score: 0.00000<br>\n",
    "Feature: 90, Score: 0.14048<br>\n",
    "Feature: 91, Score: 0.05572<br>\n",
    "Feature: 92, Score: 0.08009<br>\n",
    "Feature: 93, Score: 0.02316<br>\n",
    "Feature: 94, Score: 0.00000<br>\n",
    "Feature: 95, Score: 0.00140<br>\n",
    "Feature: 96, Score: 0.00567<br>\n",
    "Feature: 97, Score: -0.04823<br>\n",
    "Feature: 98, Score: 0.01992<br>\n",
    "Feature: 99, Score: 0.00000<br>"
   ]
  },
  {
   "cell_type": "markdown",
   "id": "b5fc2baf",
   "metadata": {},
   "source": [
    "## End of results predicting"
   ]
  }
 ],
 "metadata": {
  "kernelspec": {
   "display_name": "Python 3 (ipykernel)",
   "language": "python",
   "name": "python3"
  },
  "language_info": {
   "codemirror_mode": {
    "name": "ipython",
    "version": 3
   },
   "file_extension": ".py",
   "mimetype": "text/x-python",
   "name": "python",
   "nbconvert_exporter": "python",
   "pygments_lexer": "ipython3",
   "version": "3.9.6"
  }
 },
 "nbformat": 4,
 "nbformat_minor": 5
}
