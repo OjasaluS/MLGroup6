{
 "cells": [
  {
   "cell_type": "code",
   "execution_count": 1,
   "id": "730335d5",
   "metadata": {},
   "outputs": [],
   "source": [
    "from typing import List\n",
    "\n",
    "import pandas as pd\n",
    "from pandas import DataFrame\n",
    "\n",
    "RANDOM_STATE = 111\n",
    "\n",
    "dataframe = pd.read_csv(\"data.csv\", header=0)\n",
    "dataframe.loc[dataframe[\"y\"] < 50, \"y\"] = 1\n",
    "dataframe.loc[dataframe[\"y\"] >= 50, \"y\"] = 0"
   ]
  },
  {
   "cell_type": "code",
   "execution_count": 2,
   "id": "1a87cd6a",
   "metadata": {},
   "outputs": [],
   "source": [
    "from sklearn.model_selection import train_test_split\n",
    "from sklearn.preprocessing import StandardScaler\n",
    "\n",
    "\n",
    "def get_keys(df: DataFrame) -> List[str]:\n",
    "    result = []\n",
    "\n",
    "    for col in df.columns:\n",
    "        result.append(col)\n",
    "\n",
    "    result.remove(\"y\")\n",
    "    return result\n",
    "\n",
    "\n",
    "def get_train_val(x_data, y_data):\n",
    "    return train_test_split(x_data, y_data, test_size=0.2, random_state=RANDOM_STATE, stratify=y_data)\n",
    "\n",
    "\n",
    "def get_train_val_split(x_data, y_data):\n",
    "    return train_test_split(x_data, y_data, test_size=0.25, random_state=RANDOM_STATE, stratify=y_data)\n",
    "\n",
    "\n",
    "keys = get_keys(dataframe)\n",
    "\n",
    "X_all = dataframe[keys]\n",
    "y_all = dataframe[\"y\"]\n",
    "\n",
    "X_train, X_test, y_train, y_test = get_train_val(X_all, y_all)\n",
    "X_train, X_val, y_train, y_val = get_train_val_split(X_train, y_train)\n",
    "\n",
    "scaler = StandardScaler()\n",
    "X_train = scaler.fit_transform(X_train)\n",
    "X_test = scaler.transform(X_test)\n",
    "X_val = scaler.transform(X_val)"
   ]
  },
  {
   "cell_type": "code",
   "execution_count": 3,
   "id": "2b9365fd",
   "metadata": {
    "scrolled": true
   },
   "outputs": [
    {
     "data": {
      "text/plain": "<Figure size 432x468 with 1 Axes>",
      "image/png": "[encoded data removed]"
     },
     "metadata": {
      "needs_background": "light"
     },
     "output_type": "display_data"
    }
   ],
   "source": [
    "from typing import List\n",
    "\n",
    "import numpy as np\n",
    "import matplotlib.pyplot as plt\n",
    "from sklearn.ensemble import RandomForestClassifier\n",
    "\n",
    "\n",
    "def plot_feature_importances() -> List[str]:\n",
    "    y = []\n",
    "    results = []\n",
    "    i = 0\n",
    "    feature_names = dataframe.columns[:-1]\n",
    "\n",
    "    forest = RandomForestClassifier(random_state=RANDOM_STATE)\n",
    "    forest.fit(X_train, y_train)\n",
    "\n",
    "    for imt in forest.feature_importances_:\n",
    "        imt = round(imt,4)\n",
    "        results.append((feature_names[i], imt))\n",
    "        i = i + 1\n",
    "\n",
    "    results.sort(key=lambda importance: importance[1])\n",
    "    results.reverse()\n",
    "\n",
    "    importances = forest.feature_importances_\n",
    "    indices = np.argsort(importances)\n",
    "    plt.figure(figsize=(6, 6.5))\n",
    "    plt.barh(range(len(indices)), importances[indices], color=\"b\", align=\"center\")\n",
    "\n",
    "    for s in results:\n",
    "        y.append(s[0])\n",
    "\n",
    "    y.reverse()\n",
    "    plt.yticks(np.arange(len(y)), y)\n",
    "    plt.xlabel(\"Relative Importance\")\n",
    "    plt.show()\n",
    "\n",
    "    return y\n",
    "\n",
    "features = plot_feature_importances()\n",
    "features.reverse()\n",
    "selected_feature = features[:19]"
   ]
  },
  {
   "cell_type": "code",
   "execution_count": 4,
   "id": "1c9c5961",
   "metadata": {
    "pycharm": {
     "name": "#%%\n"
    }
   },
   "outputs": [
    {
     "name": "stdout",
     "output_type": "stream",
     "text": [
      "Accuracy 91.38%\n",
      "Recall rate 80.00%\n",
      "Recall rate of (grade < 60) students is not good at all: False\n"
     ]
    }
   ],
   "source": [
    "from sklearn.svm import SVC\n",
    "\n",
    "X_train = DataFrame(X_train)\n",
    "X_train.columns = keys\n",
    "X_val = DataFrame(X_val)\n",
    "X_val.columns = keys\n",
    "\n",
    "model = SVC(random_state=RANDOM_STATE)\n",
    "model.fit(X_train[selected_feature], y_train)\n",
    "y_pred = model.predict(X_val[selected_feature])\n",
    "\n",
    "print(f\"Accuracy {np.sum(y_pred == y_val) / len(y_pred) * 100:.2f}%\")\n",
    "print(f\"Recall rate {(np.sum(y_pred == 1) / np.sum(y_val == 1)) * 100:.2f}%\")\n",
    "print(f\"Recall rate of (grade < 60) students is not good at all: {(np.sum(y_pred == 1) / np.sum(y_val == 1)) <= 0.5}\")"
   ]
  },
  {
   "cell_type": "code",
   "execution_count": 5,
   "outputs": [
    {
     "name": "stdout",
     "output_type": "stream",
     "text": [
      "CV Accuracy: 95.50%\n",
      "CV Recall: 49.62%\n"
     ]
    }
   ],
   "source": [
    "from imblearn.pipeline import make_pipeline\n",
    "from sklearn.model_selection import cross_validate, RepeatedStratifiedKFold\n",
    "\n",
    "X_train, _, y_train, _ = get_train_val(X_all, y_all)\n",
    "\n",
    "kf = RepeatedStratifiedKFold(n_splits=4, n_repeats=10, random_state=RANDOM_STATE)\n",
    "pipeline = make_pipeline(\n",
    "        StandardScaler(),    # noqa\n",
    "        SVC(random_state=RANDOM_STATE)    # noqa\n",
    ")\n",
    "\n",
    "scoring = [\"accuracy\", \"recall\"]\n",
    "cv_results = cross_validate(pipeline, X_train, y_train, cv=kf, scoring=scoring)\n",
    "print(f\"CV Accuracy: {cv_results['test_accuracy'].mean() * 100:.2f}%\")\n",
    "print(f\"CV Recall: {cv_results['test_recall'].mean() * 100:.2f}%\")"
   ],
   "metadata": {
    "collapsed": false,
    "pycharm": {
     "name": "#%%\n"
    }
   }
  }
 ],
 "metadata": {
  "kernelspec": {
   "display_name": "Python 3 (ipykernel)",
   "language": "python",
   "name": "python3"
  },
  "language_info": {
   "codemirror_mode": {
    "name": "ipython",
    "version": 3
   },
   "file_extension": ".py",
   "mimetype": "text/x-python",
   "name": "python",
   "nbconvert_exporter": "python",
   "pygments_lexer": "ipython3",
   "version": "3.9.7"
  }
 },
 "nbformat": 4,
 "nbformat_minor": 5
}