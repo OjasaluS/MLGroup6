{
 "cells": [
  {
   "cell_type": "code",
   "execution_count": 1,
   "metadata": {
    "collapsed": true
   },
   "outputs": [],
   "source": [
    "import pandas as pd\n",
    "from pandas import DataFrame\n",
    "\n",
    "df: DataFrame = pd.read_excel(\n",
    "    \"../../xlsx/02-05 Hinded.xlsx\",\n",
    "    engine=\"openpyxl\",\n",
    "    dtype=object,\n",
    "    header=0\n",
    ")"
   ]
  },
  {
   "cell_type": "code",
   "execution_count": 2,
   "outputs": [
    {
     "name": "stdout",
     "output_type": "stream",
     "text": [
      "There are no students with the same name: True\n"
     ]
    }
   ],
   "source": [
    "name_list = []\n",
    "\n",
    "for _, row in df.iterrows():\n",
    "    name = f\"{row['Eesnimi']} {row['Perenimi']}\"\n",
    "    name_list.append(name)\n",
    "\n",
    "print(f\"There are no students with the same name: {len(name_list) == len(set(name_list))}\")"
   ],
   "metadata": {
    "collapsed": false,
    "pycharm": {
     "name": "#%%\n"
    }
   }
  }
 ],
 "metadata": {
  "kernelspec": {
   "display_name": "Python 3",
   "language": "python",
   "name": "python3"
  },
  "language_info": {
   "codemirror_mode": {
    "name": "ipython",
    "version": 2
   },
   "file_extension": ".py",
   "mimetype": "text/x-python",
   "name": "python",
   "nbconvert_exporter": "python",
   "pygments_lexer": "ipython2",
   "version": "2.7.6"
  }
 },
 "nbformat": 4,
 "nbformat_minor": 0
}