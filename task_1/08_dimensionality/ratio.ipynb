{
 "cells": [
  {
   "cell_type": "code",
   "execution_count": 1,
   "metadata": {
    "collapsed": true,
    "pycharm": {
     "name": "#%%\n"
    }
   },
   "outputs": [
    {
     "name": "stdout",
     "output_type": "stream",
     "text": [
      "Positive samples count: 28\n",
      "Negative samples count: 313\n",
      "Negative / Positive: 11.18\n"
     ]
    }
   ],
   "source": [
    "from typing import List\n",
    "\n",
    "import pandas as pd\n",
    "from pandas import DataFrame\n",
    "\n",
    "RANDOM_STATE = 111\n",
    "\n",
    "dataframe = pd.read_csv(\"data.csv\", header=0)\n",
    "\n",
    "pos_count = len(dataframe.loc[dataframe[\"y\"] < 50])\n",
    "neg_count = len(dataframe.loc[dataframe[\"y\"] >= 50])\n",
    "\n",
    "print(f\"Positive samples count: {pos_count}\")\n",
    "print(f\"Negative samples count: {neg_count}\")\n",
    "print(f\"Negative / Positive: {neg_count / pos_count:.2f}\")"
   ]
  }
 ],
 "metadata": {
  "kernelspec": {
   "display_name": "Python 3",
   "language": "python",
   "name": "python3"
  },
  "language_info": {
   "codemirror_mode": {
    "name": "ipython",
    "version": 2
   },
   "file_extension": ".py",
   "mimetype": "text/x-python",
   "name": "python",
   "nbconvert_exporter": "python",
   "pygments_lexer": "ipython2",
   "version": "2.7.6"
  }
 },
 "nbformat": 4,
 "nbformat_minor": 0
}