{
 "cells": [
  {
   "cell_type": "code",
   "execution_count": null,
   "metadata": {},
   "outputs": [],
   "source": [
    "import json\n",
    "import pandas as pd"
   ]
  },
  {
   "cell_type": "code",
   "execution_count": null,
   "metadata": {
    "pycharm": {
     "name": "#%%\n"
    }
   },
   "outputs": [],
   "source": [
    "!mv logs_LTAT.03.001_20210207-0935-AT_01.xlsx logs_LTAT.03.001_20210207-0935_AT_01.xlsx\n",
    "\n",
    "df = pd.read_excel(\"logs_LTAT.03.001_20210207-0935_AT_01.xlsx\", engine=\"openpyxl\", dtype=object, header=0)"
   ]
  },
  {
   "cell_type": "code",
   "execution_count": null,
   "metadata": {
    "pycharm": {
     "name": "#%%\n"
    },
    "scrolled": true
   },
   "outputs": [],
   "source": [
    "df.head()"
   ]
  },
  {
   "cell_type": "code",
   "execution_count": null,
   "metadata": {},
   "outputs": [],
   "source": [
    "all_students_names = set(df[\"Kasutaja täisnimi\"])\n",
    "all_students_names"
   ]
  },
  {
   "cell_type": "code",
   "execution_count": null,
   "metadata": {},
   "outputs": [],
   "source": [
    "time_string = df[\"Aeg\"][0]\n",
    "time_string"
   ]
  },
  {
   "cell_type": "code",
   "execution_count": null,
   "metadata": {},
   "outputs": [],
   "source": [
    "import time\n",
    "import datetime\n",
    "  \n",
    "print(time.mktime(datetime.datetime.strptime(time_string, \"%d.%m.%Y %H:%M:%S\").timetuple()))"
   ]
  },
  {
   "cell_type": "code",
   "execution_count": null,
   "metadata": {},
   "outputs": [],
   "source": [
    "def get_time(time_string: str) -> int:\n",
    "    return int(time.mktime(datetime.datetime.strptime(time_string, \"%d.%m.%Y %H:%M:%S\").timetuple()))"
   ]
  },
  {
   "cell_type": "code",
   "execution_count": null,
   "metadata": {},
   "outputs": [],
   "source": [
    "def get_time_interval(df) -> int:\n",
    "    time_list = [get_time(the_string) for the_string in df[\"Aeg\"]]\n",
    "    return max(time_list) - min(time_list)"
   ]
  },
  {
   "cell_type": "code",
   "execution_count": null,
   "metadata": {},
   "outputs": [],
   "source": [
    "time_interval = get_time_interval(df)\n",
    "time_interval"
   ]
  },
  {
   "cell_type": "code",
   "execution_count": null,
   "metadata": {},
   "outputs": [],
   "source": [
    "print(f\"It's {time_interval // 3600} hours, or {time_interval // 86400} days, or {time_interval // (86400 * 7)} weeks\")\n",
    "print(\"Why? Because some users may access the system in whole year (teachers?)\")"
   ]
  },
  {
   "cell_type": "code",
   "execution_count": null,
   "metadata": {},
   "outputs": [],
   "source": [
    "df_score = pd.read_excel(\"02-05 Hinded.xlsx\", engine=\"openpyxl\", dtype=object, header=0)\n",
    "all_scored_students = set()\n",
    "for index, row in df_score.iterrows():\n",
    "    full_name = f\"{row['Eesnimi']} {row['Perenimi']}\"\n",
    "    all_scored_students.add(full_name)"
   ]
  },
  {
   "cell_type": "code",
   "execution_count": null,
   "metadata": {},
   "outputs": [],
   "source": [
    "all_scored_students"
   ]
  },
  {
   "cell_type": "code",
   "execution_count": null,
   "metadata": {},
   "outputs": [],
   "source": [
    "len(all_scored_students)"
   ]
  },
  {
   "cell_type": "code",
   "execution_count": null,
   "metadata": {},
   "outputs": [],
   "source": [
    "all_students_names = all_students_names & all_scored_students\n",
    "all_students_names"
   ]
  },
  {
   "cell_type": "code",
   "execution_count": null,
   "metadata": {},
   "outputs": [],
   "source": [
    "def get_time_interval(df) -> int:\n",
    "    time_list = [get_time(row[\"Aeg\"]) for _, row in df.iterrows() if row[\"Kasutaja täisnimi\"] in all_students_names]\n",
    "    return max(time_list) - min(time_list)"
   ]
  },
  {
   "cell_type": "code",
   "execution_count": null,
   "metadata": {},
   "outputs": [],
   "source": [
    "time_interval = get_time_interval(df)\n",
    "print(f\"It's {time_interval // 3600} hours, or {time_interval // 86400} days, or {time_interval // (86400 * 7)} weeks\")\n",
    "print(f\"Still > 16 weeks, some students used the system in Jan or Feb\")"
   ]
  },
  {
   "cell_type": "code",
   "execution_count": null,
   "metadata": {},
   "outputs": [],
   "source": [
    "def get_time_min(df) -> int:\n",
    "    time_list = [get_time(row[\"Aeg\"]) for _, row in df.iterrows() if row[\"Kasutaja täisnimi\"] in all_students_names]\n",
    "    return min(time_list)\n",
    "time_min = get_time_min(df)\n",
    "time_max = time_min + 86400 * (7 * 17) # We will use this later"
   ]
  },
  {
   "cell_type": "code",
   "execution_count": null,
   "metadata": {
    "scrolled": true
   },
   "outputs": [],
   "source": [
    "# For simplicity sake, we only consider \"Components\" just for now\n",
    "all_components = list(set(df[\"Komponent\"]))\n",
    "all_components.sort()\n",
    "all_components"
   ]
  },
  {
   "cell_type": "code",
   "execution_count": null,
   "metadata": {},
   "outputs": [],
   "source": [
    "def get_student_dict(df) -> dict:\n",
    "    students = {}\n",
    "    for _, row in df.iterrows():\n",
    "        time = get_time(row['Aeg'])\n",
    "        if time > time_max:\n",
    "            continue\n",
    "        name = row['Kasutaja täisnimi']\n",
    "        if name not in all_students_names:\n",
    "            continue\n",
    "        if not students.get(name):\n",
    "            students[name] = {}\n",
    "        component = row['Komponent']\n",
    "        if not students[name].get(component):\n",
    "            students[name][component] = 1\n",
    "        else:\n",
    "            students[name][component] += 1\n",
    "    return students"
   ]
  },
  {
   "cell_type": "code",
   "execution_count": null,
   "metadata": {},
   "outputs": [],
   "source": [
    "students = get_student_dict(df)"
   ]
  },
  {
   "cell_type": "code",
   "execution_count": null,
   "metadata": {
    "scrolled": false
   },
   "outputs": [],
   "source": [
    "print(len(students))\n",
    "students"
   ]
  },
  {
   "cell_type": "code",
   "execution_count": null,
   "metadata": {},
   "outputs": [],
   "source": [
    "def get_data_dict(df, label) -> dict:\n",
    "    students_dict = get_student_dict(df)\n",
    "    new_dict = {}\n",
    "    for name in students_dict:\n",
    "        new_dict[name] = []\n",
    "        for com in all_components:\n",
    "            value = students_dict[name].get(com, 0) / 17\n",
    "            new_dict[name].append(value)\n",
    "        new_dict[name].append(label)\n",
    "    return new_dict, list(students_dict)"
   ]
  },
  {
   "cell_type": "code",
   "execution_count": null,
   "metadata": {},
   "outputs": [],
   "source": [
    "data_dict, names = get_data_dict(df, 1)\n",
    "data_list = [data_dict[k] for k in data_dict]"
   ]
  },
  {
   "cell_type": "code",
   "execution_count": null,
   "metadata": {
    "scrolled": true
   },
   "outputs": [],
   "source": [
    "print(len(data_list))\n",
    "data_list"
   ]
  },
  {
   "cell_type": "code",
   "execution_count": null,
   "metadata": {},
   "outputs": [],
   "source": [
    "def get_score(df, names):\n",
    "    scores = []\n",
    "    the_dict = {}\n",
    "    for _, row in df.iterrows():\n",
    "        the_dict[f\"{row['Eesnimi']} {row['Perenimi']}\"] = row[\"Kogutulemus (Punktid)\"]\n",
    "    for name in names:\n",
    "        score = the_dict.get(name)\n",
    "        scores.append(score)\n",
    "    return scores\n",
    "\n",
    "scores = get_score(df_score, names)\n",
    "scores"
   ]
  },
  {
   "cell_type": "code",
   "execution_count": null,
   "metadata": {},
   "outputs": [],
   "source": [
    "from pandas.core.frame import DataFrame\n",
    "data = DataFrame(data_list)\n",
    "data.columns = all_components + [\"label\"]\n",
    "data['y'] = scores"
   ]
  },
  {
   "cell_type": "code",
   "execution_count": null,
   "metadata": {
    "scrolled": true
   },
   "outputs": [],
   "source": [
    "data.tail()"
   ]
  },
  {
   "cell_type": "code",
   "execution_count": null,
   "metadata": {
    "scrolled": true
   },
   "outputs": [],
   "source": [
    "import os\n",
    "os.listdir() "
   ]
  },
  {
   "cell_type": "code",
   "execution_count": null,
   "metadata": {},
   "outputs": [],
   "source": [
    "all_labels = set()\n",
    "\n",
    "for file in os.listdir():\n",
    "    if not file.startswith('logs_') or not file.endswith('.xlsx'):\n",
    "        continue\n",
    "    spc = file.split('-')[1].split('_')[1]\n",
    "    all_labels.add(spc)\n",
    "\n",
    "all_labels = list(all_labels)\n",
    "all_labels_dict = {}\n",
    "\n",
    "for i in range(len(all_labels)):\n",
    "    all_labels_dict[all_labels[i]] = i + 1\n",
    "    \n",
    "all_labels_dict"
   ]
  },
  {
   "cell_type": "code",
   "execution_count": null,
   "metadata": {},
   "outputs": [],
   "source": [
    "total_data_list = []\n",
    "total_scores = []\n",
    "\n",
    "for file in os.listdir():\n",
    "    global label, df, all_students_names, time_min, time_max, data_dict, names, data_list\n",
    "\n",
    "    if not file.startswith('logs_') or not file.endswith('.xlsx') or \"veebirühm\" in file:\n",
    "        continue\n",
    "        \n",
    "    print(f\"Processing {file}...\")\n",
    "    \n",
    "    spc = file.split('-')[1].split('_')[1]\n",
    "    label = all_labels_dict[spc]\n",
    "    df = pd.read_excel(file, engine=\"openpyxl\", dtype=object, header=0)\n",
    "    all_students_names = set(df[\"Kasutaja täisnimi\"])\n",
    "    all_students_names = all_students_names & all_scored_students\n",
    "    time_min = get_time_min(df)\n",
    "    time_max = time_min + 86400 * (7 * 17)\n",
    "    data_dict, names = get_data_dict(df, label)\n",
    "    data_list = [data_dict[k] for k in data_dict]\n",
    "    scores = get_score(df_score, names)\n",
    "    total_data_list = total_data_list + data_list\n",
    "    total_scores = total_scores + scores\n",
    "\n",
    "print(len(total_data_list))\n",
    "print(len(total_scores))"
   ]
  },
  {
   "cell_type": "code",
   "execution_count": null,
   "metadata": {},
   "outputs": [],
   "source": [
    "total_data = DataFrame(total_data_list)\n",
    "total_data.columns = all_components + [\"label\"]\n",
    "total_data['y'] = total_scores"
   ]
  },
  {
   "cell_type": "code",
   "execution_count": null,
   "metadata": {},
   "outputs": [],
   "source": [
    "total_data.head()"
   ]
  },
  {
   "cell_type": "code",
   "execution_count": null,
   "metadata": {},
   "outputs": [],
   "source": [
    "total_data.tail()"
   ]
  },
  {
   "cell_type": "code",
   "execution_count": null,
   "metadata": {},
   "outputs": [],
   "source": [
    "total_data.to_csv('first_try_data.csv', encoding='utf-8', index=False)"
   ]
  }
 ],
 "metadata": {
  "kernelspec": {
   "display_name": "Python 3 (ipykernel)",
   "language": "python",
   "name": "python3"
  },
  "language_info": {
   "codemirror_mode": {
    "name": "ipython",
    "version": 3
   },
   "file_extension": ".py",
   "mimetype": "text/x-python",
   "name": "python",
   "nbconvert_exporter": "python",
   "pygments_lexer": "ipython3",
   "version": "3.9.7"
  }
 },
 "nbformat": 4,
 "nbformat_minor": 1
}
